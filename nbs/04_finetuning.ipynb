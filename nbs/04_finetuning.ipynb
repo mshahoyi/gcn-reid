{
 "cells": [
  {
   "cell_type": "markdown",
   "id": "bd604cc7",
   "metadata": {},
   "source": [
    "# Finetuning\n",
    "> This notebook finetunes MegaDescriptor and MiewID models on our newt dataset to improve their performance."
   ]
  },
  {
   "cell_type": "code",
   "execution_count": null,
   "id": "6d12bdac",
   "metadata": {},
   "outputs": [],
   "source": [
    "#| default_exp finetuning"
   ]
  },
  {
   "cell_type": "code",
   "execution_count": null,
   "id": "f82735ca",
   "metadata": {},
   "outputs": [],
   "source": [
    "#| eval: false\n",
    "import os\n",
    "import numpy as np\n",
    "import sys\n",
    "import torch\n",
    "from gcn_reid.newt import get_newt_dataset, get_cropping_image_dataset\n",
    "from wildlife_datasets import splits\n",
    "import timm\n",
    "import itertools\n",
    "from torch.optim import SGD\n",
    "from wildlife_tools.train import ArcFaceLoss, BasicTrainer\n",
    "from wildlife_tools.train import set_seed\n",
    "from torchvision import transforms as T\n",
    "from wildlife_tools.features import DeepFeatures\n",
    "from wildlife_tools.inference import TopkClassifier\n",
    "from wildlife_tools.similarity import CosineSimilarity\n",
    "from transformers import AutoModel"
   ]
  },
  {
   "cell_type": "markdown",
   "id": "709c4b21",
   "metadata": {
    "lines_to_next_cell": 0
   },
   "source": [
    "# Download Newt Dataset"
   ]
  },
  {
   "cell_type": "code",
   "execution_count": null,
   "id": "2045047e",
   "metadata": {
    "lines_to_next_cell": 1
   },
   "outputs": [],
   "source": [
    "#| eval: false\n",
    "NewtDataset = get_newt_dataset()\n",
    "dataset_path = \"data/newt_dataset\"\n",
    "NewtDataset._download(dataset_name=\"mshahoyi/barhill-newts-segmented\", download_path=dataset_path)\n",
    "dataset = NewtDataset(dataset_path)\n",
    "dataset.df.head()"
   ]
  },
  {
   "cell_type": "markdown",
   "id": "87269ca6",
   "metadata": {},
   "source": [
    "# Create Data Splits"
   ]
  },
  {
   "cell_type": "markdown",
   "id": "a0ba09e2",
   "metadata": {},
   "source": [
    "## Create Train/Test Split"
   ]
  },
  {
   "cell_type": "code",
   "execution_count": null,
   "id": "ba3fbea4",
   "metadata": {
    "lines_to_next_cell": 1
   },
   "outputs": [],
   "source": [
    "def create_train_test_split(df, split_ratio=0.5):\n",
    "    disjoint_splitter = splits.DisjointSetSplit(split_ratio)\n",
    "    for idx_train, idx_test in disjoint_splitter.split(df):\n",
    "        df_train, df_test = df.loc[idx_train], df.loc[idx_test]\n",
    "        splits.analyze_split(df, idx_train, idx_test)\n",
    "    return df_train, df_test\n",
    "\n",
    "df_train, df_test = create_train_test_split(dataset.df, split_ratio=0.5)\n",
    "df_test, df_val = create_train_test_split(df_test, split_ratio=0.5)\n",
    "\n",
    "print(f\"Train: {len(df_train)}, Test: {len(df_test)}, Validation: {len(df_val)}\")"
   ]
  },
  {
   "cell_type": "markdown",
   "id": "c6304169",
   "metadata": {},
   "source": [
    "## Closed Set Split (for database and query sets)"
   ]
  },
  {
   "cell_type": "code",
   "execution_count": null,
   "id": "371540d2",
   "metadata": {},
   "outputs": [],
   "source": [
    "def create_database_query_split(df, split_ratio=0.9):\n",
    "    splitter = splits.ClosedSetSplit(split_ratio)\n",
    "    for idx_database, idx_query in splitter.split(df):\n",
    "        df_database, df_query = df.loc[idx_database], df.loc[idx_query]\n",
    "        splits.analyze_split(df, idx_database, idx_query)\n",
    "    return df_database, df_query\n",
    "\n",
    "df_test_database, df_test_query = create_database_query_split(df_test, split_ratio=0.9)\n",
    "print(f\"Test Database: {len(df_test_database)}, Test Query: {len(df_test_query)}\\n\\n\\n\")\n",
    "\n",
    "df_val_database, df_val_query = create_database_query_split(df_val, split_ratio=0.9)\n",
    "print(f\"Validation Database: {len(df_val_database)}, Validation Query: {len(df_val_query)}\\n\\n\\n\")\n",
    "\n",
    "df_train_database, df_train_query = create_database_query_split(df_train, split_ratio=0.9)\n",
    "print(f\"Train Database: {len(df_train_database)}, Train Query: {len(df_train_query)}\\n\\n\\n\")"
   ]
  },
  {
   "cell_type": "markdown",
   "id": "79926e02",
   "metadata": {},
   "source": [
    "# Train MegaDescriptor"
   ]
  },
  {
   "cell_type": "code",
   "execution_count": null,
   "id": "d3740f5c",
   "metadata": {},
   "outputs": [],
   "source": [
    "# Download MegaDescriptor-T backbone from HuggingFace Hub\n",
    "device = torch.device(\"cuda\" if torch.cuda.is_available() else \"cpu\")\n",
    "backbone = timm.create_model('hf-hub:BVRA/MegaDescriptor-T-224', num_classes=0, pretrained=True).to(device)"
   ]
  },
  {
   "cell_type": "code",
   "execution_count": null,
   "id": "595968e7",
   "metadata": {
    "lines_to_next_cell": 1
   },
   "outputs": [],
   "source": [
    "CroppingImageDataset = get_cropping_image_dataset()\n",
    "transform = T.Compose([\n",
    "    T.Resize([224, 224]), \n",
    "    T.ToTensor(), \n",
    "    T.Normalize(mean=(0.485, 0.456, 0.406), std=(0.229, 0.224, 0.225))\n",
    "    ])\n",
    "\n",
    "train_dataset = CroppingImageDataset(df_train, root=dataset_path, transform=transform, crop_out=True)"
   ]
  },
  {
   "cell_type": "code",
   "execution_count": null,
   "id": "4b3addca",
   "metadata": {
    "lines_to_next_cell": 1
   },
   "outputs": [],
   "source": [
    "def evaluate(model, df_query, df_database, data_root, transform, crop_out, batch_size, num_workers, device):\n",
    "    # Calculate retrieval results\n",
    "    extractor = DeepFeatures(model, \n",
    "                    device=device,\n",
    "                    batch_size=batch_size,\n",
    "                    num_workers=num_workers)\n",
    "    \n",
    "    print(\"Extracting features for query set\")\n",
    "    dataset_query = CroppingImageDataset(df_query, root=data_root, transform=transform, crop_out=crop_out)\n",
    "    query = extractor(dataset_query)\n",
    "\n",
    "    print(\"Extracting features for database set\")\n",
    "    dataset_database = CroppingImageDataset(df_database, root=data_root, transform=transform, crop_out=crop_out)\n",
    "    database = extractor(dataset_database)\n",
    "\n",
    "    similarity_function = CosineSimilarity()\n",
    "    similarity = similarity_function(query, database)\n",
    "    top_5_classifier = TopkClassifier(k=5, database_labels=dataset_database.labels_string, return_all=True)\n",
    "    \n",
    "    predictions_top_5, scores_top_5, _ = top_5_classifier(similarity)\n",
    "    accuracy_top_1 = np.mean(dataset_query.labels_string == predictions_top_5[:, 0])\n",
    "    accuracy_top_5 = np.mean(np.any(predictions_top_5 == dataset_query.labels_string[:, np.newaxis], axis=1))\n",
    "\n",
    "    return dict(accuracy_top_1=accuracy_top_1, accuracy_top_5=accuracy_top_5)"
   ]
  },
  {
   "cell_type": "code",
   "execution_count": null,
   "id": "b7d7e71f",
   "metadata": {
    "lines_to_next_cell": 1
   },
   "outputs": [],
   "source": [
    "val_transform = T.Compose([\n",
    "    T.Resize([224, 224]), \n",
    "    T.ToTensor(), \n",
    "    T.Normalize(mean=(0.485, 0.456, 0.406), std=(0.229, 0.224, 0.225))\n",
    "])\n",
    "\n",
    "evaluate(model=backbone, \n",
    "         df_query=df_val_query, \n",
    "         df_database=df_val_database, \n",
    "         data_root=dataset_path, \n",
    "         transform=val_transform, \n",
    "         crop_out=True, \n",
    "         batch_size=32, num_workers=4, device=device)"
   ]
  },
  {
   "cell_type": "code",
   "execution_count": null,
   "id": "f3dd09ab",
   "metadata": {
    "lines_to_next_cell": 1
   },
   "outputs": [],
   "source": [
    "class EvaluationCb:\n",
    "    def __init__(self, df_query, df_database, root, transform, crop_out):\n",
    "        self.df_query = df_query\n",
    "        self.df_database = df_database\n",
    "        self.root = root\n",
    "        self.transform = transform\n",
    "        self.crop_out = crop_out\n",
    "        self.history = []\n",
    "        \n",
    "    def __call__(self, trainer, epoch_data):\n",
    "        eval_results = evaluate(model=trainer.model, \n",
    "                           df_query=self.df_query, \n",
    "                           df_database=self.df_database, \n",
    "                           data_root=self.root, \n",
    "                           transform=self.transform, \n",
    "                           crop_out=self.crop_out, \n",
    "                           batch_size=trainer.batch_size, \n",
    "                           num_workers=trainer.num_workers, \n",
    "                           device=trainer.device)\n",
    "        \n",
    "        epoch_data.update(eval_results)\n",
    "        self.history.append(epoch_data)\n",
    "        print(f\"Accuracy top 1: {eval_results['accuracy_top_1']}, Accuracy top 5: {eval_results['accuracy_top_5']}\\n\\n\")\n",
    "        trainer.model = trainer.model.to(trainer.device)"
   ]
  },
  {
   "cell_type": "code",
   "execution_count": null,
   "id": "b4e9fbda",
   "metadata": {},
   "outputs": [],
   "source": [
    "epoch_callback = EvaluationCb(df_val_query, \n",
    "                                df_val_database, \n",
    "                                dataset_path, \n",
    "                                val_transform, \n",
    "                                crop_out=True)"
   ]
  },
  {
   "cell_type": "code",
   "execution_count": null,
   "id": "1d3065e8",
   "metadata": {},
   "outputs": [],
   "source": [
    "# Arcface loss - needs backbone output size and number of classes.\n",
    "objective = ArcFaceLoss(\n",
    "    num_classes=train_dataset.num_classes,\n",
    "    embedding_size=768,\n",
    "    margin=0.5,\n",
    "    scale=64    \n",
    "    )\n",
    "\n",
    "# Optimize parameters in backbone and in objective using single optimizer.\n",
    "params = itertools.chain(backbone.parameters(), objective.parameters())\n",
    "optimizer = SGD(params=params, lr=0.001, momentum=0.9)\n",
    "\n",
    "set_seed(0)\n",
    "trainer = BasicTrainer(\n",
    "    dataset=train_dataset,\n",
    "    model=backbone,\n",
    "    objective=objective,\n",
    "    optimizer=optimizer,\n",
    "    epochs=5,\n",
    "    device=device,\n",
    "    num_workers=4,\n",
    "    epoch_callback=epoch_callback\n",
    "    )\n",
    "\n",
    "trainer.train()"
   ]
  },
  {
   "cell_type": "code",
   "execution_count": null,
   "id": "0bc754b0",
   "metadata": {},
   "outputs": [],
   "source": [
    "epoch_callback.history"
   ]
  },
  {
   "cell_type": "markdown",
   "id": "417d796c",
   "metadata": {},
   "source": [
    "## MegaDescriptor on Test Set"
   ]
  },
  {
   "cell_type": "code",
   "execution_count": null,
   "id": "8132c573",
   "metadata": {},
   "outputs": [],
   "source": [
    "mega_descriptor_results = evaluate(model=backbone, \n",
    "         df_query=df_test_query, \n",
    "         df_database=df_test_database, \n",
    "         data_root=dataset_path, \n",
    "         transform=val_transform, \n",
    "         crop_out=True, \n",
    "         batch_size=32, \n",
    "         num_workers=4, \n",
    "         device=device)\n",
    "\n",
    "print(\"MegaDescriptor Results:\", mega_descriptor_results)"
   ]
  },
  {
   "cell_type": "markdown",
   "id": "fba7b47e",
   "metadata": {},
   "source": [
    "# Train MiewID"
   ]
  },
  {
   "cell_type": "code",
   "execution_count": null,
   "id": "0a1cce40",
   "metadata": {},
   "outputs": [],
   "source": [
    "#| hide_output: true\n",
    "miew_id_model = AutoModel.from_pretrained(\"conservationxlabs/miewid-msv2\", trust_remote_code=True).to(device)"
   ]
  },
  {
   "cell_type": "code",
   "execution_count": null,
   "id": "dbec7a5b",
   "metadata": {},
   "outputs": [],
   "source": [
    "miew_id_results = evaluate(model=miew_id_model, \n",
    "         df_query=df_val_query, \n",
    "         df_database=df_val_database, \n",
    "         data_root=dataset_path, \n",
    "         transform=val_transform, \n",
    "         crop_out=True, \n",
    "         batch_size=32, num_workers=4, device=device)\n",
    "\n",
    "print(\"MiewID Results before finetuning:\", miew_id_results)"
   ]
  },
  {
   "cell_type": "code",
   "execution_count": null,
   "id": "07b3ea87",
   "metadata": {},
   "outputs": [],
   "source": [
    "miew_id_epoch_callback = EvaluationCb(df_val_query, \n",
    "                                df_val_database, \n",
    "                                dataset_path, \n",
    "                                val_transform, \n",
    "                                crop_out=True)"
   ]
  },
  {
   "cell_type": "code",
   "execution_count": null,
   "id": "900437cc",
   "metadata": {},
   "outputs": [],
   "source": [
    "\n",
    "\n",
    "# Optimize parameters in backbone and in objective using single optimizer.\n",
    "params = itertools.chain(backbone.parameters(), objective.parameters())\n",
    "optimizer = SGD(params=params, lr=0.001, momentum=0.9)\n",
    "\n",
    "set_seed(0)\n",
    "trainer = BasicTrainer(\n",
    "    dataset=train_dataset,\n",
    "    model=backbone,\n",
    "    objective=objective,\n",
    "    optimizer=optimizer,\n",
    "    epochs=5,\n",
    "    device=device,\n",
    "    num_workers=4,\n",
    "    epoch_callback=epoch_callback\n",
    "    )\n",
    "\n",
    "trainer.train()"
   ]
  },
  {
   "cell_type": "code",
   "execution_count": null,
   "id": "7ac18f68",
   "metadata": {},
   "outputs": [],
   "source": [
    "epoch_callback.history"
   ]
  },
  {
   "cell_type": "code",
   "execution_count": null,
   "id": "4ff13bf1",
   "metadata": {},
   "outputs": [],
   "source": [
    "import nbdev; nbdev.nbdev_export()"
   ]
  }
 ],
 "metadata": {
  "jupytext": {
   "cell_metadata_filter": "-all",
   "main_language": "python",
   "notebook_metadata_filter": "-all"
  }
 },
 "nbformat": 4,
 "nbformat_minor": 5
}

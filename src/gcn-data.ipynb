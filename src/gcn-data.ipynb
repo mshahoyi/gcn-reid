{
 "cells": [
  {
   "cell_type": "code",
   "execution_count": 1,
   "id": "b96b173f",
   "metadata": {
    "_cell_guid": "b1076dfc-b9ad-4769-8c92-a6c4dae69d19",
    "_uuid": "8f2839f25d086af736a60e9eeb907d3b93b6e0e5",
    "execution": {
     "iopub.execute_input": "2025-05-05T11:51:04.376274Z",
     "iopub.status.busy": "2025-05-05T11:51:04.375982Z",
     "iopub.status.idle": "2025-05-05T11:51:08.423034Z",
     "shell.execute_reply": "2025-05-05T11:51:08.422244Z"
    },
    "papermill": {
     "duration": 4.053992,
     "end_time": "2025-05-05T11:51:08.424728",
     "exception": false,
     "start_time": "2025-05-05T11:51:04.370736",
     "status": "completed"
    },
    "tags": []
   },
   "outputs": [],
   "source": [
    "# This Python 3 environment comes with many helpful analytics libraries installed\n",
    "# It is defined by the kaggle/python Docker image: https://github.com/kaggle/docker-python\n",
    "# For example, here's several helpful packages to load\n",
    "\n",
    "import numpy as np # linear algebra\n",
    "import pandas as pd # data processing, CSV file I/O (e.g. pd.read_csv)\n",
    "\n",
    "# Input data files are available in the read-only \"../input/\" directory\n",
    "# For example, running this (by clicking run or pressing Shift+Enter) will list all files under the input directory\n",
    "\n",
    "import os\n",
    "for dirname, _, filenames in os.walk('/kaggle/input'):\n",
    "    for filename in filenames:\n",
    "        # print(os.path.join(dirname, filename))\n",
    "        pass\n",
    "\n",
    "# You can write up to 20GB to the current directory (/kaggle/working/) that gets preserved as output when you create a version using \"Save & Run All\" \n",
    "# You can also write temporary files to /kaggle/temp/, but they won't be saved outside of the current session"
   ]
  },
  {
   "cell_type": "code",
   "execution_count": 2,
   "id": "0b2f609e",
   "metadata": {
    "execution": {
     "iopub.execute_input": "2025-05-05T11:51:08.432895Z",
     "iopub.status.busy": "2025-05-05T11:51:08.432484Z",
     "iopub.status.idle": "2025-05-05T11:51:13.486529Z",
     "shell.execute_reply": "2025-05-05T11:51:13.485345Z"
    },
    "papermill": {
     "duration": 5.059687,
     "end_time": "2025-05-05T11:51:13.488166",
     "exception": false,
     "start_time": "2025-05-05T11:51:08.428479",
     "status": "completed"
    },
    "tags": []
   },
   "outputs": [
    {
     "name": "stdout",
     "output_type": "stream",
     "text": [
      "Note: you may need to restart the kernel to use updated packages.\n"
     ]
    }
   ],
   "source": [
    "pip install ramda > /dev/null"
   ]
  },
  {
   "cell_type": "code",
   "execution_count": 3,
   "id": "9b17e989",
   "metadata": {
    "execution": {
     "iopub.execute_input": "2025-05-05T11:51:13.496493Z",
     "iopub.status.busy": "2025-05-05T11:51:13.496156Z",
     "iopub.status.idle": "2025-05-05T11:51:13.623512Z",
     "shell.execute_reply": "2025-05-05T11:51:13.622447Z"
    },
    "papermill": {
     "duration": 0.133462,
     "end_time": "2025-05-05T11:51:13.625178",
     "exception": false,
     "start_time": "2025-05-05T11:51:13.491716",
     "status": "completed"
    },
    "tags": []
   },
   "outputs": [
    {
     "name": "stdout",
     "output_type": "stream",
     "text": [
      "'ARU Research poster A1 (003) Ecoacoustics researching at Cambridge crematorium_edit (002).png'\r\n",
      "'Bar Hill GCN Survey Results 2024.xlsx'\r\n",
      "'GCN Surveys at Cambridge Crematorium 2024.docx'\r\n",
      "\u001b[0m\u001b[01;34m'Survey 1 09_05_24'\u001b[0m/\r\n",
      "\u001b[01;34m'Survey 2 10_05_24'\u001b[0m/\r\n",
      "\u001b[01;34m'Survey 3 16_05_24'\u001b[0m/\r\n",
      "\u001b[01;34m'Survey 4 17_05_24'\u001b[0m/\r\n",
      "\u001b[01;34m'Survey 5 06_06_24'\u001b[0m/\r\n",
      "\u001b[01;34m'Survey 6 07_06_24'\u001b[0m/\r\n",
      "\u001b[01;34m'Survey 7 12_06_24'\u001b[0m/\r\n",
      "\u001b[01;34m'Survey 8 13_06_24'\u001b[0m/\r\n"
     ]
    }
   ],
   "source": [
    "ls /kaggle/input/bar-hill-surveys/'Bar Hill Surveys 2024'/"
   ]
  },
  {
   "cell_type": "code",
   "execution_count": 4,
   "id": "d6016dee",
   "metadata": {
    "execution": {
     "iopub.execute_input": "2025-05-05T11:51:13.633711Z",
     "iopub.status.busy": "2025-05-05T11:51:13.633331Z",
     "iopub.status.idle": "2025-05-05T11:51:14.065552Z",
     "shell.execute_reply": "2025-05-05T11:51:14.064673Z"
    },
    "papermill": {
     "duration": 0.438114,
     "end_time": "2025-05-05T11:51:14.066956",
     "exception": false,
     "start_time": "2025-05-05T11:51:13.628842",
     "status": "completed"
    },
    "tags": []
   },
   "outputs": [
    {
     "data": {
      "text/plain": [
       "[('/kaggle/input/bar-hill-surveys/Bar Hill Surveys 2024',\n",
       "  ['Survey 6 07_06_24',\n",
       "   'Survey 5 06_06_24',\n",
       "   'Survey 7 12_06_24',\n",
       "   'Survey 2 10_05_24',\n",
       "   'Survey 3 16_05_24',\n",
       "   'Survey 4 17_05_24',\n",
       "   'Survey 1 09_05_24',\n",
       "   'Survey 8 13_06_24'],\n",
       "  ['ARU Research poster A1 (003) Ecoacoustics researching at Cambridge crematorium_edit (002).png',\n",
       "   'Bar Hill GCN Survey Results 2024.xlsx',\n",
       "   'GCN Surveys at Cambridge Crematorium 2024.docx']),\n",
       " ('/kaggle/input/bar-hill-surveys/Bar Hill Surveys 2024/Survey 6 07_06_24',\n",
       "  ['Pond 2',\n",
       "   'Pond 1',\n",
       "   'Pond 7',\n",
       "   'Pond 3',\n",
       "   'Highways Ditch TL 40072 62619',\n",
       "   'Pond 9',\n",
       "   'Pond 4'],\n",
       "  []),\n",
       " ('/kaggle/input/bar-hill-surveys/Bar Hill Surveys 2024/Survey 6 07_06_24/Pond 2',\n",
       "  ['GCN8-P3-S6', 'GCN7-P3-S6'],\n",
       "  []),\n",
       " ('/kaggle/input/bar-hill-surveys/Bar Hill Surveys 2024/Survey 6 07_06_24/Pond 2/GCN8-P3-S6',\n",
       "  [],\n",
       "  ['IMG_3624.JPEG',\n",
       "   'IMG_3622.MOV',\n",
       "   'IMG_3624.MOV',\n",
       "   'IMG_3622.JPEG',\n",
       "   'IMG_3621.MOV',\n",
       "   'IMG_3623.MOV',\n",
       "   'IMG_3621.JPEG',\n",
       "   'IMG_3623.JPEG',\n",
       "   'IMG_3625.MOV',\n",
       "   'IMG_3625.JPEG'])]"
      ]
     },
     "execution_count": 4,
     "metadata": {},
     "output_type": "execute_result"
    }
   ],
   "source": [
    "import ramda as R\n",
    "import os\n",
    "import shutil\n",
    "from pathlib import Path\n",
    "\n",
    "data_root = Path(\"/kaggle/input/bar-hill-surveys\")/'Bar Hill Surveys 2024'\n",
    "walk = list(os.walk(data_root))\n",
    "walk[:4]"
   ]
  },
  {
   "cell_type": "code",
   "execution_count": 5,
   "id": "cbf3c0f0",
   "metadata": {
    "execution": {
     "iopub.execute_input": "2025-05-05T11:51:14.075162Z",
     "iopub.status.busy": "2025-05-05T11:51:14.074868Z",
     "iopub.status.idle": "2025-05-05T11:51:14.081070Z",
     "shell.execute_reply": "2025-05-05T11:51:14.080371Z"
    },
    "papermill": {
     "duration": 0.011838,
     "end_time": "2025-05-05T11:51:14.082520",
     "exception": false,
     "start_time": "2025-05-05T11:51:14.070682",
     "status": "completed"
    },
    "tags": []
   },
   "outputs": [
    {
     "data": {
      "text/plain": [
       "[('/kaggle/input/bar-hill-surveys/Bar Hill Surveys 2024/Survey 6 07_06_24/Pond 2/GCN8-P3-S6',\n",
       "  [],\n",
       "  ['IMG_3624.JPEG',\n",
       "   'IMG_3622.MOV',\n",
       "   'IMG_3624.MOV',\n",
       "   'IMG_3622.JPEG',\n",
       "   'IMG_3621.MOV',\n",
       "   'IMG_3623.MOV',\n",
       "   'IMG_3621.JPEG',\n",
       "   'IMG_3623.JPEG',\n",
       "   'IMG_3625.MOV',\n",
       "   'IMG_3625.JPEG']),\n",
       " ('/kaggle/input/bar-hill-surveys/Bar Hill Surveys 2024/Survey 6 07_06_24/Pond 2/GCN7-P3-S6',\n",
       "  [],\n",
       "  ['IMG_3618.JPEG',\n",
       "   'IMG_3617.JPEG',\n",
       "   'IMG_3615.MOV',\n",
       "   'IMG_3619.MOV',\n",
       "   'IMG_3616.MOV',\n",
       "   'IMG_3619.JPEG',\n",
       "   'IMG_3616.JPEG',\n",
       "   'IMG_3615.JPEG',\n",
       "   'IMG_3617.MOV',\n",
       "   'IMG_3618.MOV'])]"
      ]
     },
     "execution_count": 5,
     "metadata": {},
     "output_type": "execute_result"
    }
   ],
   "source": [
    "gcns = R.filter(lambda x: 'gcn' in os.path.basename(x[0]).lower(), walk) #\n",
    "gcns[:2]"
   ]
  },
  {
   "cell_type": "code",
   "execution_count": 6,
   "id": "3365973b",
   "metadata": {
    "execution": {
     "iopub.execute_input": "2025-05-05T11:51:14.090953Z",
     "iopub.status.busy": "2025-05-05T11:51:14.090692Z",
     "iopub.status.idle": "2025-05-05T11:51:14.109100Z",
     "shell.execute_reply": "2025-05-05T11:51:14.108421Z"
    },
    "papermill": {
     "duration": 0.024069,
     "end_time": "2025-05-05T11:51:14.110321",
     "exception": false,
     "start_time": "2025-05-05T11:51:14.086252",
     "status": "completed"
    },
    "tags": []
   },
   "outputs": [
    {
     "data": {
      "text/plain": [
       "{'GCN8-P3-S6': ['/kaggle/input/bar-hill-surveys/Bar Hill Surveys 2024/Survey 6 07_06_24/Pond 2/GCN8-P3-S6/IMG_3624.JPEG',\n",
       "  '/kaggle/input/bar-hill-surveys/Bar Hill Surveys 2024/Survey 6 07_06_24/Pond 2/GCN8-P3-S6/IMG_3622.JPEG',\n",
       "  '/kaggle/input/bar-hill-surveys/Bar Hill Surveys 2024/Survey 6 07_06_24/Pond 2/GCN8-P3-S6/IMG_3621.JPEG',\n",
       "  '/kaggle/input/bar-hill-surveys/Bar Hill Surveys 2024/Survey 6 07_06_24/Pond 2/GCN8-P3-S6/IMG_3623.JPEG',\n",
       "  '/kaggle/input/bar-hill-surveys/Bar Hill Surveys 2024/Survey 6 07_06_24/Pond 2/GCN8-P3-S6/IMG_3625.JPEG'],\n",
       " 'GCN7-P3-S6': ['/kaggle/input/bar-hill-surveys/Bar Hill Surveys 2024/Survey 6 07_06_24/Pond 2/GCN7-P3-S6/IMG_3618.JPEG',\n",
       "  '/kaggle/input/bar-hill-surveys/Bar Hill Surveys 2024/Survey 6 07_06_24/Pond 2/GCN7-P3-S6/IMG_3617.JPEG',\n",
       "  '/kaggle/input/bar-hill-surveys/Bar Hill Surveys 2024/Survey 6 07_06_24/Pond 2/GCN7-P3-S6/IMG_3619.JPEG',\n",
       "  '/kaggle/input/bar-hill-surveys/Bar Hill Surveys 2024/Survey 6 07_06_24/Pond 2/GCN7-P3-S6/IMG_3616.JPEG',\n",
       "  '/kaggle/input/bar-hill-surveys/Bar Hill Surveys 2024/Survey 6 07_06_24/Pond 2/GCN7-P3-S6/IMG_3615.JPEG']}"
      ]
     },
     "execution_count": 6,
     "metadata": {},
     "output_type": "execute_result"
    }
   ],
   "source": [
    "image_extensions = (\".jpg\", \".jpeg\", \".png\")\n",
    "\n",
    "data = [(os.path.basename(root), R.compose(\n",
    "    R.map(lambda f: os.path.join(root, f)), \n",
    "    R.filter(lambda f: f.lower().endswith(image_extensions))\n",
    ")(files)) for root, _, files in gcns]\n",
    "\n",
    "dict(data[:2])    "
   ]
  },
  {
   "cell_type": "code",
   "execution_count": 7,
   "id": "7b86f3c6",
   "metadata": {
    "execution": {
     "iopub.execute_input": "2025-05-05T11:51:14.118940Z",
     "iopub.status.busy": "2025-05-05T11:51:14.118642Z",
     "iopub.status.idle": "2025-05-05T11:51:14.357722Z",
     "shell.execute_reply": "2025-05-05T11:51:14.356764Z"
    },
    "papermill": {
     "duration": 0.245313,
     "end_time": "2025-05-05T11:51:14.359410",
     "exception": false,
     "start_time": "2025-05-05T11:51:14.114097",
     "status": "completed"
    },
    "tags": []
   },
   "outputs": [
    {
     "name": "stdout",
     "output_type": "stream",
     "text": [
      "barhill  __notebook__.ipynb\r\n"
     ]
    }
   ],
   "source": [
    "base_dir = Path(\"barhill\")\n",
    "output_dir = base_dir/\"GCNs\"\n",
    "!rm -rf {base_dir}\n",
    "Path(base_dir).mkdir(exist_ok=True)\n",
    "Path(output_dir).mkdir(exist_ok=True)\n",
    "!ls"
   ]
  },
  {
   "cell_type": "code",
   "execution_count": 8,
   "id": "c78b6b27",
   "metadata": {
    "execution": {
     "iopub.execute_input": "2025-05-05T11:51:14.368812Z",
     "iopub.status.busy": "2025-05-05T11:51:14.368104Z",
     "iopub.status.idle": "2025-05-05T11:51:14.375464Z",
     "shell.execute_reply": "2025-05-05T11:51:14.374608Z"
    },
    "papermill": {
     "duration": 0.013475,
     "end_time": "2025-05-05T11:51:14.376814",
     "exception": false,
     "start_time": "2025-05-05T11:51:14.363339",
     "status": "completed"
    },
    "tags": []
   },
   "outputs": [
    {
     "data": {
      "text/plain": [
       "['barhill/GCNs/GCN8-P3-S6',\n",
       " 'barhill/GCNs/GCN7-P3-S6',\n",
       " 'barhill/GCNs/GCN1-P1-S6',\n",
       " 'barhill/GCNs/GCN13-P7-S6',\n",
       " 'barhill/GCNs/GCN10-P7-S6']"
      ]
     },
     "execution_count": 8,
     "metadata": {},
     "output_type": "execute_result"
    }
   ],
   "source": [
    "# All GCN folders to create\n",
    "label_folders = R.map(lambda x: os.path.join(output_dir, x[0]))(data) # x[0] is newt id\n",
    "label_folders[:5]"
   ]
  },
  {
   "cell_type": "code",
   "execution_count": 9,
   "id": "ba5e11f9",
   "metadata": {
    "execution": {
     "iopub.execute_input": "2025-05-05T11:51:14.385313Z",
     "iopub.status.busy": "2025-05-05T11:51:14.385039Z",
     "iopub.status.idle": "2025-05-05T11:51:14.396259Z",
     "shell.execute_reply": "2025-05-05T11:51:14.395449Z"
    },
    "papermill": {
     "duration": 0.016893,
     "end_time": "2025-05-05T11:51:14.397576",
     "exception": false,
     "start_time": "2025-05-05T11:51:14.380683",
     "status": "completed"
    },
    "tags": []
   },
   "outputs": [
    {
     "data": {
      "text/plain": [
       "[('/kaggle/input/bar-hill-surveys/Bar Hill Surveys 2024/Survey 6 07_06_24/Pond 2/GCN8-P3-S6/IMG_3624.JPEG',\n",
       "  'barhill/GCNs/GCN8-P3-S6/IMG_3624.JPEG'),\n",
       " ('/kaggle/input/bar-hill-surveys/Bar Hill Surveys 2024/Survey 6 07_06_24/Pond 2/GCN8-P3-S6/IMG_3622.JPEG',\n",
       "  'barhill/GCNs/GCN8-P3-S6/IMG_3622.JPEG'),\n",
       " ('/kaggle/input/bar-hill-surveys/Bar Hill Surveys 2024/Survey 6 07_06_24/Pond 2/GCN8-P3-S6/IMG_3621.JPEG',\n",
       "  'barhill/GCNs/GCN8-P3-S6/IMG_3621.JPEG'),\n",
       " ('/kaggle/input/bar-hill-surveys/Bar Hill Surveys 2024/Survey 6 07_06_24/Pond 2/GCN8-P3-S6/IMG_3623.JPEG',\n",
       "  'barhill/GCNs/GCN8-P3-S6/IMG_3623.JPEG'),\n",
       " ('/kaggle/input/bar-hill-surveys/Bar Hill Surveys 2024/Survey 6 07_06_24/Pond 2/GCN8-P3-S6/IMG_3625.JPEG',\n",
       "  'barhill/GCNs/GCN8-P3-S6/IMG_3625.JPEG')]"
      ]
     },
     "execution_count": 9,
     "metadata": {},
     "output_type": "execute_result"
    }
   ],
   "source": [
    "# File source to destination mapping\n",
    "src_to_dest_map = R.chain(lambda x: R.map(lambda y: (y, os.path.join(output_dir, x[0], os.path.basename(y))), x[1]))(data) # x[1] is filenames\n",
    "src_to_dest_map[:5]"
   ]
  },
  {
   "cell_type": "code",
   "execution_count": 10,
   "id": "47ec7c12",
   "metadata": {
    "execution": {
     "iopub.execute_input": "2025-05-05T11:51:14.406140Z",
     "iopub.status.busy": "2025-05-05T11:51:14.405877Z",
     "iopub.status.idle": "2025-05-05T11:51:37.110074Z",
     "shell.execute_reply": "2025-05-05T11:51:37.109241Z"
    },
    "papermill": {
     "duration": 22.710311,
     "end_time": "2025-05-05T11:51:37.111726",
     "exception": false,
     "start_time": "2025-05-05T11:51:14.401415",
     "status": "completed"
    },
    "tags": []
   },
   "outputs": [
    {
     "name": "stderr",
     "output_type": "stream",
     "text": [
      "100%|██████████| 1253/1253 [00:22<00:00, 55.31it/s]\n"
     ]
    }
   ],
   "source": [
    "from tqdm import tqdm\n",
    "\n",
    "# Do the copying\n",
    "for f in label_folders: Path(f).mkdir(exist_ok=True)\n",
    "for src, dst in tqdm(src_to_dest_map): shutil.copy(src, dst)"
   ]
  },
  {
   "cell_type": "code",
   "execution_count": 11,
   "id": "2f8b3301",
   "metadata": {
    "execution": {
     "iopub.execute_input": "2025-05-05T11:51:37.138744Z",
     "iopub.status.busy": "2025-05-05T11:51:37.138360Z",
     "iopub.status.idle": "2025-05-05T11:51:37.152567Z",
     "shell.execute_reply": "2025-05-05T11:51:37.151733Z"
    },
    "papermill": {
     "duration": 0.028586,
     "end_time": "2025-05-05T11:51:37.154051",
     "exception": false,
     "start_time": "2025-05-05T11:51:37.125465",
     "status": "completed"
    },
    "tags": []
   },
   "outputs": [
    {
     "data": {
      "text/plain": [
       "[('barhill/GCNs',\n",
       "  ['GCN63-P6-S2',\n",
       "   'GCN13-P4-S4',\n",
       "   'GCN20-P1-S2',\n",
       "   'GCN75-P5-S4',\n",
       "   'GCN7-P4-S4',\n",
       "   'GCN68-P1-S4',\n",
       "   'GCN8-P7-S6',\n",
       "   'GCN11-P2-S3',\n",
       "   'GCN41-P3-S4',\n",
       "   'GCN25-P4-S4',\n",
       "   'GCN18-P2-S3',\n",
       "   'GCN55-P2-S4',\n",
       "   'GCN35-P3-S4',\n",
       "   'GCN48-P2-S4',\n",
       "   'GCN5-P3-S6',\n",
       "   'GCN4-P4-S3',\n",
       "   'GCN21-P7-S8',\n",
       "   'GCN8-P4-S4',\n",
       "   'GCN6-P1-S2',\n",
       "   'GCN44-P4-S2',\n",
       "   'GCN26-P4-S2',\n",
       "   'GCN64-P6-S2',\n",
       "   'GCN7-P3-S6',\n",
       "   'GCN21-P4-S4',\n",
       "   'GCN6-P4-S4',\n",
       "   'GCN2-P4-S3',\n",
       "   'GCN32-P3-S4',\n",
       "   'GCN16-P7-S8',\n",
       "   'GCN58-P2-S2',\n",
       "   'GCN30-P4-S2',\n",
       "   'GCN7-P7-S6',\n",
       "   'GCN1-P2-S1',\n",
       "   'GCN60-P5-S2',\n",
       "   'GCN20-P7-S8',\n",
       "   'GCN78-P6-S4',\n",
       "   'GCN65-P1-S4',\n",
       "   'GCN2-P4-S4',\n",
       "   'GCN15-P1-S2',\n",
       "   'GCN12-P2-S3',\n",
       "   'GCN32-P4-S2',\n",
       "   'GCN19-P1-S2',\n",
       "   'GCN8-P7-S8',\n",
       "   'GCN2-P3-S5',\n",
       "   'GCN18-P1-S2',\n",
       "   'GCN10-P7-S6',\n",
       "   'GCN39-P3-S2',\n",
       "   'GCN17-P2-S3',\n",
       "   'GCN18-P7-S8',\n",
       "   'GCN13-P1-S2',\n",
       "   'GCN3-P1-S1',\n",
       "   'GCN4-P3-S6',\n",
       "   'GCN73-P1-S4',\n",
       "   'GCN41-P3-S2',\n",
       "   'GCN2-P1-S1',\n",
       "   'GCN25-P4-S2',\n",
       "   'GCN30-P3-S4',\n",
       "   'GCN42-P3-S2',\n",
       "   'GCN74-P5-S4',\n",
       "   'GCN56-P2-S2',\n",
       "   'GCN3-P3-S6',\n",
       "   'GCN61-P5-S2',\n",
       "   'GCN10-P2-S3',\n",
       "   'GCN33-P3-S4',\n",
       "   'GCN34-P3-S2',\n",
       "   'GCN46-P2-S4',\n",
       "   'GCN11-P7-S8',\n",
       "   'GCN31-P3-S4',\n",
       "   'GCN18-P4-S4',\n",
       "   'GCN4-P1-S2',\n",
       "   'GCN14-P3-S3',\n",
       "   'GCN5-P3-S1',\n",
       "   'GCN13-P2-S3',\n",
       "   'GCN20-P4-S4',\n",
       "   'GCN9-P7-S6',\n",
       "   'GCN71-P1-S4',\n",
       "   'GCN52-P2-S4',\n",
       "   'GCN10-P1-S2',\n",
       "   'GCN2-P4-S6',\n",
       "   'GCN18-P7-S6',\n",
       "   'GCN23-P4-S2',\n",
       "   'GCN12-P7-S6',\n",
       "   'GCN3-P2-S5',\n",
       "   'GCN10-P7-S8',\n",
       "   'GCN2-P1-S2',\n",
       "   'GCN27-P4-S2',\n",
       "   'GCN15-P7-S6',\n",
       "   'GCN31-P4-S2',\n",
       "   'GCN67-P1-S4',\n",
       "   'GCN43-P2-S4',\n",
       "   'GCN19-P4-S4',\n",
       "   'GCN64-P1-S4',\n",
       "   'GCN46-P2-S2',\n",
       "   'GCN3-P1-S2',\n",
       "   'GCN50-P2-S2',\n",
       "   'GCN27-P3-S4',\n",
       "   'GCN9-P4-S4',\n",
       "   'GCN1-P4-S5',\n",
       "   'GCN37-P3-S4',\n",
       "   'GCN14-P7-S8',\n",
       "   'GCN36-P3-S2',\n",
       "   'GCN12-P4-S4',\n",
       "   'GCN19-P9-S6',\n",
       "   'GCN38-P3-S4',\n",
       "   'GCN22-P4-S4',\n",
       "   'GCN66-P1-S4',\n",
       "   'GCN7-P4-S3',\n",
       "   'GCN5-P4-S8',\n",
       "   'GCN7-P7-S8',\n",
       "   'GCN51-P2-S4',\n",
       "   'GCN20-Ditch-S6',\n",
       "   'GCN29-P3-S4',\n",
       "   'GCN42-P2-S4',\n",
       "   'GCN7-P1-S2',\n",
       "   'GCN65-P6-S2',\n",
       "   'GCN57-P1-S4',\n",
       "   'GCN11-P1-S2',\n",
       "   'GCN6-P4-S8',\n",
       "   'GCN63-P1-S4',\n",
       "   'GCN11-P4-S4',\n",
       "   'GCN53-P2-S4',\n",
       "   'GCN40-P3-S2',\n",
       "   'GCN9-P1-S2',\n",
       "   'GCN29-P4-S2',\n",
       "   'GCN62-P5-S2',\n",
       "   'GCN1-P1-S2',\n",
       "   'GCN55-P2-S2',\n",
       "   'GCN3-P2-S8',\n",
       "   'GCN8-P1-S2',\n",
       "   'GCN38-P3-S2',\n",
       "   'GCN5-P4-S4',\n",
       "   'GCN16-P2-S3',\n",
       "   'GCN9-P2-S3',\n",
       "   'GCN24-P4-S4',\n",
       "   'GCN1-P1-S6',\n",
       "   'GCN16-P7-S6',\n",
       "   'GCN11-P7-S6',\n",
       "   'GCN13-P7-S6',\n",
       "   'GCN40-P3-S4',\n",
       "   'GCN4-P1-S1',\n",
       "   'GCN54-P2-S4',\n",
       "   'GCN49-P2-S2',\n",
       "   'GCN5-P4-S3',\n",
       "   'GCN3-P4-S3',\n",
       "   'GCN45-P2-S4',\n",
       "   'GCN43-P3-S2',\n",
       "   'GCN5-P1-S2',\n",
       "   'GCN35-P3-S2',\n",
       "   'GCN60-P1-S4',\n",
       "   'GCN76-P5-S4',\n",
       "   'GCN53-P2-S2',\n",
       "   'GCN24-P4-S2',\n",
       "   'GCN13-P7-S8',\n",
       "   'GCN36-P3-S4',\n",
       "   'GCN17-P7-S6',\n",
       "   'GCN59-P1-S4',\n",
       "   'GCN45-P2-S2',\n",
       "   'GCN48-P2-S2',\n",
       "   'GCN16-P1-S2',\n",
       "   'GCN14-P1-S2',\n",
       "   'GCN8-P4-S3',\n",
       "   'GCN26-P3-S4',\n",
       "   'GCN15-P4-S4',\n",
       "   'GCN49-P2-S4',\n",
       "   'GCN23-P4-S4',\n",
       "   'GCN1-P1-S8',\n",
       "   'GCN10-P4-S4',\n",
       "   'GCN2-P2-S8',\n",
       "   'GCN77-P6-S4',\n",
       "   'GCN1-P4-S7',\n",
       "   'GCN16-P4-S4',\n",
       "   'GCN21-P4-S2',\n",
       "   'GCN52-P2-S2',\n",
       "   'GCN28-P3-S4',\n",
       "   'GCN12-P1-S2',\n",
       "   'GCN17-P1-S2',\n",
       "   'GCN69-P1-S4',\n",
       "   'GCN61-P1-S4',\n",
       "   'GCN70-P1-S4',\n",
       "   'GCN15-P3-S3',\n",
       "   'GCN8-P3-S6',\n",
       "   'GCN72-P1-S4',\n",
       "   'GCN62-P1-S4',\n",
       "   'GCN58-P1-S4',\n",
       "   'GCN37-P3-S2',\n",
       "   'GCN1-P4-S4',\n",
       "   'GCN56-P2-S4',\n",
       "   'GCN44-P2-S4',\n",
       "   'GCN17-P4-S4',\n",
       "   'GCN1-P7-S3',\n",
       "   'GCN6-P3-S6',\n",
       "   'GCN54-P2-S2',\n",
       "   'GCN22-P4-S2',\n",
       "   'GCN59-P5-S2',\n",
       "   'GCN34-P3-S4',\n",
       "   'GCN4-P4-S4',\n",
       "   'GCN51-P2-S2',\n",
       "   'GCN14-P4-S4',\n",
       "   'GCN14-P7-S6',\n",
       "   'GCN50-P2-S4',\n",
       "   'GCN3-P4-S4',\n",
       "   'GCN39-P3-S4',\n",
       "   'GCN33-P3-S2',\n",
       "   'GCN57-P2-S2',\n",
       "   'GCN47-P2-S4',\n",
       "   'GCN47-P2-S2',\n",
       "   'GCN28-P4-S2',\n",
       "   'GCN6-P4-S3'],\n",
       "  []),\n",
       " ('barhill/GCNs/GCN63-P6-S2',\n",
       "  [],\n",
       "  ['IMG_2729.JPEG',\n",
       "   'IMG_2727.JPEG',\n",
       "   'IMG_2728.JPEG',\n",
       "   'IMG_2725.JPEG',\n",
       "   'IMG_2726.JPEG']),\n",
       " ('barhill/GCNs/GCN13-P4-S4',\n",
       "  [],\n",
       "  ['IMG_2978.JPEG',\n",
       "   'IMG_2974.JPEG',\n",
       "   'IMG_2977.JPEG',\n",
       "   'IMG_2976.JPEG',\n",
       "   'IMG_2975.JPEG'])]"
      ]
     },
     "execution_count": 11,
     "metadata": {},
     "output_type": "execute_result"
    }
   ],
   "source": [
    "list(os.walk(output_dir))[:3]"
   ]
  },
  {
   "cell_type": "code",
   "execution_count": 12,
   "id": "0a1558ac",
   "metadata": {
    "execution": {
     "iopub.execute_input": "2025-05-05T11:51:37.180592Z",
     "iopub.status.busy": "2025-05-05T11:51:37.180260Z",
     "iopub.status.idle": "2025-05-05T11:51:37.196342Z",
     "shell.execute_reply": "2025-05-05T11:51:37.195458Z"
    },
    "papermill": {
     "duration": 0.030686,
     "end_time": "2025-05-05T11:51:37.197758",
     "exception": false,
     "start_time": "2025-05-05T11:51:37.167072",
     "status": "completed"
    },
    "tags": []
   },
   "outputs": [
    {
     "data": {
      "text/plain": [
       "[{'image_path': 'barhill/GCNs/GCN63-P6-S2/IMG_2725.JPEG',\n",
       "  'image_name': 'IMG_2725.JPEG',\n",
       "  'newt_id': 'GCN63-P6-S2',\n",
       "  'is_probe': 0},\n",
       " {'image_path': 'barhill/GCNs/GCN63-P6-S2/IMG_2727.JPEG',\n",
       "  'image_name': 'IMG_2727.JPEG',\n",
       "  'newt_id': 'GCN63-P6-S2',\n",
       "  'is_probe': 0},\n",
       " {'image_path': 'barhill/GCNs/GCN63-P6-S2/IMG_2728.JPEG',\n",
       "  'image_name': 'IMG_2728.JPEG',\n",
       "  'newt_id': 'GCN63-P6-S2',\n",
       "  'is_probe': 0},\n",
       " {'image_path': 'barhill/GCNs/GCN63-P6-S2/IMG_2726.JPEG',\n",
       "  'image_name': 'IMG_2726.JPEG',\n",
       "  'newt_id': 'GCN63-P6-S2',\n",
       "  'is_probe': 1},\n",
       " {'image_path': 'barhill/GCNs/GCN63-P6-S2/IMG_2729.JPEG',\n",
       "  'image_name': 'IMG_2729.JPEG',\n",
       "  'newt_id': 'GCN63-P6-S2',\n",
       "  'is_probe': 1}]"
      ]
     },
     "execution_count": 12,
     "metadata": {},
     "output_type": "execute_result"
    }
   ],
   "source": [
    "import random\n",
    "\n",
    "# Split data into gallery and probe\n",
    "gallery_and_probe_data = []\n",
    "\n",
    "random.seed(42)\n",
    "for newt_id in os.listdir(output_dir):\n",
    "    newt_folder = os.path.join(output_dir, newt_id)\n",
    "    images = [f for f in os.listdir(newt_folder)]\n",
    "    random.shuffle(images)\n",
    "    \n",
    "    # Split: 70% gallery, 30% probe (adjust as needed)\n",
    "    split_idx = int(0.7 * len(images))\n",
    "    gallery_images = images[:split_idx]\n",
    "    probe_images = images[split_idx:]\n",
    "    \n",
    "    # Copy to respective folders\n",
    "    for img in gallery_images:\n",
    "        gallery_and_probe_data.append({\n",
    "            'image_path': os.path.join(newt_folder, img),\n",
    "            'image_name': img,\n",
    "            'newt_id': newt_id,\n",
    "            'is_probe': 0\n",
    "        })\n",
    "        \n",
    "    for img in probe_images:\n",
    "        gallery_and_probe_data.append({\n",
    "            'image_path': os.path.join(newt_folder, img),\n",
    "            'image_name': img,\n",
    "            'newt_id': newt_id,\n",
    "            'is_probe': 1\n",
    "        })\n",
    "gallery_and_probe_data[:5]"
   ]
  },
  {
   "cell_type": "code",
   "execution_count": 13,
   "id": "722c87a0",
   "metadata": {
    "execution": {
     "iopub.execute_input": "2025-05-05T11:51:37.223865Z",
     "iopub.status.busy": "2025-05-05T11:51:37.223520Z",
     "iopub.status.idle": "2025-05-05T11:51:37.254734Z",
     "shell.execute_reply": "2025-05-05T11:51:37.253923Z"
    },
    "papermill": {
     "duration": 0.045851,
     "end_time": "2025-05-05T11:51:37.256271",
     "exception": false,
     "start_time": "2025-05-05T11:51:37.210420",
     "status": "completed"
    },
    "tags": []
   },
   "outputs": [
    {
     "data": {
      "text/html": [
       "<div>\n",
       "<style scoped>\n",
       "    .dataframe tbody tr th:only-of-type {\n",
       "        vertical-align: middle;\n",
       "    }\n",
       "\n",
       "    .dataframe tbody tr th {\n",
       "        vertical-align: top;\n",
       "    }\n",
       "\n",
       "    .dataframe thead th {\n",
       "        text-align: right;\n",
       "    }\n",
       "</style>\n",
       "<table border=\"1\" class=\"dataframe\">\n",
       "  <thead>\n",
       "    <tr style=\"text-align: right;\">\n",
       "      <th></th>\n",
       "      <th>image_path</th>\n",
       "      <th>image_name</th>\n",
       "      <th>newt_id</th>\n",
       "      <th>is_probe</th>\n",
       "    </tr>\n",
       "  </thead>\n",
       "  <tbody>\n",
       "    <tr>\n",
       "      <th>0</th>\n",
       "      <td>barhill/GCNs/GCN63-P6-S2/IMG_2725.JPEG</td>\n",
       "      <td>IMG_2725.JPEG</td>\n",
       "      <td>GCN63-P6-S2</td>\n",
       "      <td>0</td>\n",
       "    </tr>\n",
       "    <tr>\n",
       "      <th>1</th>\n",
       "      <td>barhill/GCNs/GCN63-P6-S2/IMG_2727.JPEG</td>\n",
       "      <td>IMG_2727.JPEG</td>\n",
       "      <td>GCN63-P6-S2</td>\n",
       "      <td>0</td>\n",
       "    </tr>\n",
       "    <tr>\n",
       "      <th>2</th>\n",
       "      <td>barhill/GCNs/GCN63-P6-S2/IMG_2728.JPEG</td>\n",
       "      <td>IMG_2728.JPEG</td>\n",
       "      <td>GCN63-P6-S2</td>\n",
       "      <td>0</td>\n",
       "    </tr>\n",
       "    <tr>\n",
       "      <th>3</th>\n",
       "      <td>barhill/GCNs/GCN63-P6-S2/IMG_2726.JPEG</td>\n",
       "      <td>IMG_2726.JPEG</td>\n",
       "      <td>GCN63-P6-S2</td>\n",
       "      <td>1</td>\n",
       "    </tr>\n",
       "    <tr>\n",
       "      <th>4</th>\n",
       "      <td>barhill/GCNs/GCN63-P6-S2/IMG_2729.JPEG</td>\n",
       "      <td>IMG_2729.JPEG</td>\n",
       "      <td>GCN63-P6-S2</td>\n",
       "      <td>1</td>\n",
       "    </tr>\n",
       "  </tbody>\n",
       "</table>\n",
       "</div>"
      ],
      "text/plain": [
       "                               image_path     image_name      newt_id  \\\n",
       "0  barhill/GCNs/GCN63-P6-S2/IMG_2725.JPEG  IMG_2725.JPEG  GCN63-P6-S2   \n",
       "1  barhill/GCNs/GCN63-P6-S2/IMG_2727.JPEG  IMG_2727.JPEG  GCN63-P6-S2   \n",
       "2  barhill/GCNs/GCN63-P6-S2/IMG_2728.JPEG  IMG_2728.JPEG  GCN63-P6-S2   \n",
       "3  barhill/GCNs/GCN63-P6-S2/IMG_2726.JPEG  IMG_2726.JPEG  GCN63-P6-S2   \n",
       "4  barhill/GCNs/GCN63-P6-S2/IMG_2729.JPEG  IMG_2729.JPEG  GCN63-P6-S2   \n",
       "\n",
       "   is_probe  \n",
       "0         0  \n",
       "1         0  \n",
       "2         0  \n",
       "3         1  \n",
       "4         1  "
      ]
     },
     "execution_count": 13,
     "metadata": {},
     "output_type": "execute_result"
    }
   ],
   "source": [
    "df = pd.DataFrame(gallery_and_probe_data)\n",
    "df.head()"
   ]
  },
  {
   "cell_type": "code",
   "execution_count": 14,
   "id": "b45fcee6",
   "metadata": {
    "execution": {
     "iopub.execute_input": "2025-05-05T11:51:37.283414Z",
     "iopub.status.busy": "2025-05-05T11:51:37.283038Z",
     "iopub.status.idle": "2025-05-05T11:51:37.291241Z",
     "shell.execute_reply": "2025-05-05T11:51:37.290558Z"
    },
    "papermill": {
     "duration": 0.023222,
     "end_time": "2025-05-05T11:51:37.292590",
     "exception": false,
     "start_time": "2025-05-05T11:51:37.269368",
     "status": "completed"
    },
    "tags": []
   },
   "outputs": [
    {
     "data": {
      "text/plain": [
       "0.37110933758978454"
      ]
     },
     "execution_count": 14,
     "metadata": {},
     "output_type": "execute_result"
    }
   ],
   "source": [
    "df.is_probe.mean()"
   ]
  },
  {
   "cell_type": "code",
   "execution_count": 15,
   "id": "f6b236f4",
   "metadata": {
    "execution": {
     "iopub.execute_input": "2025-05-05T11:51:37.319833Z",
     "iopub.status.busy": "2025-05-05T11:51:37.318868Z",
     "iopub.status.idle": "2025-05-05T11:51:37.335911Z",
     "shell.execute_reply": "2025-05-05T11:51:37.335203Z"
    },
    "papermill": {
     "duration": 0.032162,
     "end_time": "2025-05-05T11:51:37.337458",
     "exception": false,
     "start_time": "2025-05-05T11:51:37.305296",
     "status": "completed"
    },
    "tags": []
   },
   "outputs": [],
   "source": [
    "df.to_csv(base_dir/\"gallery_and_probes.csv\")"
   ]
  },
  {
   "cell_type": "code",
   "execution_count": 16,
   "id": "0fe9c42c",
   "metadata": {
    "execution": {
     "iopub.execute_input": "2025-05-05T11:51:37.364722Z",
     "iopub.status.busy": "2025-05-05T11:51:37.363956Z",
     "iopub.status.idle": "2025-05-05T11:51:37.487510Z",
     "shell.execute_reply": "2025-05-05T11:51:37.486297Z"
    },
    "papermill": {
     "duration": 0.13864,
     "end_time": "2025-05-05T11:51:37.489246",
     "exception": false,
     "start_time": "2025-05-05T11:51:37.350606",
     "status": "completed"
    },
    "tags": []
   },
   "outputs": [
    {
     "name": "stdout",
     "output_type": "stream",
     "text": [
      "gallery_and_probes.csv  \u001b[0m\u001b[01;34mGCNs\u001b[0m/\r\n"
     ]
    }
   ],
   "source": [
    "ls {base_dir}"
   ]
  },
  {
   "cell_type": "code",
   "execution_count": null,
   "id": "dfd0cb63",
   "metadata": {
    "papermill": {
     "duration": 0.012261,
     "end_time": "2025-05-05T11:51:37.514463",
     "exception": false,
     "start_time": "2025-05-05T11:51:37.502202",
     "status": "completed"
    },
    "tags": []
   },
   "outputs": [],
   "source": []
  }
 ],
 "metadata": {
  "kaggle": {
   "accelerator": "none",
   "dataSources": [
    {
     "datasetId": 6939444,
     "sourceId": 11127186,
     "sourceType": "datasetVersion"
    }
   ],
   "dockerImageVersionId": 31012,
   "isGpuEnabled": false,
   "isInternetEnabled": true,
   "language": "python",
   "sourceType": "notebook"
  },
  "kernelspec": {
   "display_name": "Python 3",
   "language": "python",
   "name": "python3"
  },
  "language_info": {
   "codemirror_mode": {
    "name": "ipython",
    "version": 3
   },
   "file_extension": ".py",
   "mimetype": "text/x-python",
   "name": "python",
   "nbconvert_exporter": "python",
   "pygments_lexer": "ipython3",
   "version": "3.11.11"
  },
  "papermill": {
   "default_parameters": {},
   "duration": 38.19847,
   "end_time": "2025-05-05T11:51:38.046962",
   "environment_variables": {},
   "exception": null,
   "input_path": "__notebook__.ipynb",
   "output_path": "__notebook__.ipynb",
   "parameters": {},
   "start_time": "2025-05-05T11:50:59.848492",
   "version": "2.6.0"
  }
 },
 "nbformat": 4,
 "nbformat_minor": 5
}
